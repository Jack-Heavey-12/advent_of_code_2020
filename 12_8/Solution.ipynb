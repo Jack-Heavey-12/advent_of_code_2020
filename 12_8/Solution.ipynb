{
 "cells": [
  {
   "cell_type": "code",
   "execution_count": 1,
   "metadata": {},
   "outputs": [],
   "source": [
    "import numpy as np\n",
    "import pandas as pd"
   ]
  },
  {
   "cell_type": "code",
   "execution_count": 8,
   "metadata": {},
   "outputs": [],
   "source": [
    "df = pd.read_csv('input_file.txt', sep=' ', header=None)\n",
    "df.columns = ['Command', 'Iterator']"
   ]
  },
  {
   "cell_type": "code",
   "execution_count": 9,
   "metadata": {},
   "outputs": [],
   "source": [
    "df['Visited'] = 0"
   ]
  },
  {
   "cell_type": "code",
   "execution_count": 10,
   "metadata": {},
   "outputs": [
    {
     "data": {
      "text/html": [
       "<div>\n",
       "<style scoped>\n",
       "    .dataframe tbody tr th:only-of-type {\n",
       "        vertical-align: middle;\n",
       "    }\n",
       "\n",
       "    .dataframe tbody tr th {\n",
       "        vertical-align: top;\n",
       "    }\n",
       "\n",
       "    .dataframe thead th {\n",
       "        text-align: right;\n",
       "    }\n",
       "</style>\n",
       "<table border=\"1\" class=\"dataframe\">\n",
       "  <thead>\n",
       "    <tr style=\"text-align: right;\">\n",
       "      <th></th>\n",
       "      <th>Command</th>\n",
       "      <th>Iterator</th>\n",
       "      <th>Visited</th>\n",
       "    </tr>\n",
       "  </thead>\n",
       "  <tbody>\n",
       "    <tr>\n",
       "      <th>0</th>\n",
       "      <td>nop</td>\n",
       "      <td>116</td>\n",
       "      <td>0</td>\n",
       "    </tr>\n",
       "    <tr>\n",
       "      <th>1</th>\n",
       "      <td>acc</td>\n",
       "      <td>12</td>\n",
       "      <td>0</td>\n",
       "    </tr>\n",
       "    <tr>\n",
       "      <th>2</th>\n",
       "      <td>acc</td>\n",
       "      <td>-8</td>\n",
       "      <td>0</td>\n",
       "    </tr>\n",
       "    <tr>\n",
       "      <th>3</th>\n",
       "      <td>acc</td>\n",
       "      <td>34</td>\n",
       "      <td>0</td>\n",
       "    </tr>\n",
       "    <tr>\n",
       "      <th>4</th>\n",
       "      <td>jmp</td>\n",
       "      <td>485</td>\n",
       "      <td>0</td>\n",
       "    </tr>\n",
       "  </tbody>\n",
       "</table>\n",
       "</div>"
      ],
      "text/plain": [
       "  Command  Iterator  Visited\n",
       "0     nop       116        0\n",
       "1     acc        12        0\n",
       "2     acc        -8        0\n",
       "3     acc        34        0\n",
       "4     jmp       485        0"
      ]
     },
     "execution_count": 10,
     "metadata": {},
     "output_type": "execute_result"
    }
   ],
   "source": [
    "df.head()"
   ]
  },
  {
   "cell_type": "code",
   "execution_count": 11,
   "metadata": {},
   "outputs": [],
   "source": [
    "def cycle_through(frame, accum, row=None):\n",
    "    if not row:\n",
    "        x = 0\n",
    "    else:\n",
    "        x = row\n",
    "    if df.loc[x, 'Visited'] == 1:\n",
    "        return accum\n",
    "    else:\n",
    "        if frame.loc[x, 'Command'] == 'nop':\n",
    "            frame.loc[x, 'Visited'] = 1\n",
    "            return cycle_through(frame, accum, x+1)\n",
    "        elif frame.loc[x, 'Command'] == 'acc':\n",
    "            y = accum + frame.loc[x, 'Iterator']\n",
    "            frame.loc[x, 'Visited'] = 1\n",
    "            return cycle_through(frame, y, x+1)\n",
    "        else:\n",
    "            frame.loc[x, 'Visited'] = 1\n",
    "            new_row = frame.loc[x, 'Iterator']\n",
    "            return cycle_through(frame, accum, x + new_row)"
   ]
  },
  {
   "cell_type": "code",
   "execution_count": 12,
   "metadata": {},
   "outputs": [
    {
     "name": "stdout",
     "output_type": "stream",
     "text": [
      "1832\n"
     ]
    }
   ],
   "source": [
    "print(cycle_through(df, 0))"
   ]
  },
  {
   "cell_type": "code",
   "execution_count": 16,
   "metadata": {},
   "outputs": [],
   "source": [
    "df_final = df"
   ]
  },
  {
   "cell_type": "code",
   "execution_count": 21,
   "metadata": {},
   "outputs": [],
   "source": [
    "df_final.iloc[-1, 2] = -1"
   ]
  },
  {
   "cell_type": "code",
   "execution_count": 20,
   "metadata": {},
   "outputs": [
    {
     "data": {
      "text/plain": [
       "Command     jmp\n",
       "Iterator      1\n",
       "Visited       5\n",
       "Name: 625, dtype: object"
      ]
     },
     "execution_count": 20,
     "metadata": {},
     "output_type": "execute_result"
    }
   ],
   "source": []
  },
  {
   "cell_type": "code",
   "execution_count": null,
   "metadata": {},
   "outputs": [],
   "source": [
    "def cycle_through(frame, accum, row=None):\n",
    "    if not row:\n",
    "        x = 0\n",
    "    else:\n",
    "        x = row\n",
    "    if df.loc[x, 'Visited'] == -1:\n",
    "        return accum\n",
    "    else:\n",
    "        if frame.loc[x, 'Command'] == 'nop':\n",
    "            frame.loc[x, 'Visited'] = 1\n",
    "            return cycle_through(frame, accum, x+1)\n",
    "        elif frame.loc[x, 'Command'] == 'acc':\n",
    "            y = accum + frame.loc[x, 'Iterator']\n",
    "            frame.loc[x, 'Visited'] = 1\n",
    "            return cycle_through(frame, y, x+1)\n",
    "        else:\n",
    "            frame.loc[x, 'Visited'] = 1\n",
    "            new_row = frame.loc[x, 'Iterator']\n",
    "            return cycle_through(frame, accum, x + new_row)"
   ]
  }
 ],
 "metadata": {
  "kernelspec": {
   "display_name": "Python 3",
   "language": "python",
   "name": "python3"
  },
  "language_info": {
   "codemirror_mode": {
    "name": "ipython",
    "version": 3
   },
   "file_extension": ".py",
   "mimetype": "text/x-python",
   "name": "python",
   "nbconvert_exporter": "python",
   "pygments_lexer": "ipython3",
   "version": "3.7.7"
  }
 },
 "nbformat": 4,
 "nbformat_minor": 4
}
