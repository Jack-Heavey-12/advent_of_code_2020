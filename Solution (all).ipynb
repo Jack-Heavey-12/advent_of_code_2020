{
 "cells": [
  {
   "cell_type": "code",
   "execution_count": null,
   "metadata": {},
   "outputs": [],
   "source": [
    "#general imports. Add as I see fit.\n",
    "import numpy as np\n",
    "import pandas as pd"
   ]
  },
  {
   "cell_type": "code",
   "execution_count": 1,
   "metadata": {},
   "outputs": [],
   "source": [
    "#General function for opening .txt files, which it seems like all the inputs are.\n",
    "def get_input(filepath):\n",
    "    f = open(filepath, \"r\")\n",
    "    arr = f.read().split(\"\\n\")\n",
    "    #NOTE: don't need the pop below if just copying the inputs, but will need it if saving directly from the webpage\n",
    "    #arr.pop()\n",
    "    return arr"
   ]
  },
  {
   "cell_type": "code",
   "execution_count": null,
   "metadata": {},
   "outputs": [],
   "source": [
    "##NOTE - cells below that are not commented are works in progress/assorted trials.\n",
    "##       Will work to comment in cells where it does work"
   ]
  },
  {
   "cell_type": "code",
   "execution_count": null,
   "metadata": {},
   "outputs": [],
   "source": [
    "##SOLUTION CODE FOR 12/8 (part 1).\n",
    "\n",
    "df = pd.read_csv('input_file_12_8.txt', sep=' ', header=None)\n",
    "df.columns = ['Command', 'Iterator']\n",
    "\n",
    "df['Visited'] = 0\n",
    "\n",
    "def cycle_through(frame, accum, row=None):\n",
    "    if not row:\n",
    "        x = 0\n",
    "    else:\n",
    "        x = row\n",
    "    if frame.loc[x, 'Visited'] == 1:\n",
    "        return accum\n",
    "    else:\n",
    "        if frame.loc[x, 'Command'] == 'nop':\n",
    "            frame.loc[x, 'Visited'] = 1\n",
    "            return cycle_through(frame, accum, x+1)\n",
    "        elif frame.loc[x, 'Command'] == 'acc':\n",
    "            y = accum + frame.loc[x, 'Iterator']\n",
    "            frame.loc[x, 'Visited'] = 1\n",
    "            return cycle_through(frame, y, x+1)\n",
    "        else:\n",
    "            frame.loc[x, 'Visited'] = 1\n",
    "            new_row = frame.loc[x, 'Iterator']\n",
    "            return cycle_through(frame, accum, x + new_row)\n",
    "\n",
    "#This will print correct answer for part 1, verified on website\n",
    "print(cycle_through(df, 0))\n",
    "\n",
    "df['Visited'] = 0\n",
    "\n",
    "df['End Binary'] = 0\n",
    "df.iloc[-1, 3] = 1\n",
    "\n",
    "def replace(command):\n",
    "    if command == 'nop':\n",
    "        return 'jmp'\n",
    "    elif command == 'jmp':\n",
    "        return 'nop'\n",
    "    else:\n",
    "        return 'acc'\n",
    "    \n",
    "def cycle_through_new(frame, accum, row=None):\n",
    "    if not row:\n",
    "        x = 0\n",
    "    else:\n",
    "        x = row\n",
    "        \n",
    "    if frame.loc[x, 'End Binary'] == 1:\n",
    "        return (accum, True)\n",
    "    \n",
    "    if frame.loc[x, 'Visited'] == 1:\n",
    "        return (accum, False)\n",
    "    else:\n",
    "        #Copy here just to be safe\n",
    "        new_frame = frame.copy()\n",
    "        if frame.loc[x, 'Command'] == 'nop':\n",
    "            new_frame.loc[x, 'Visited'] = 1\n",
    "            return cycle_through_new(new_frame, accum, x+1)\n",
    "        elif frame.loc[x, 'Command'] == 'acc':\n",
    "            y = accum + frame.loc[x, 'Iterator']\n",
    "            new_frame.loc[x, 'Visited'] = 1\n",
    "            return cycle_through_new(new_frame, y, x+1)\n",
    "        else:\n",
    "            new_frame.loc[x, 'Visited'] = 1\n",
    "            new_row = frame.loc[x, 'Iterator']\n",
    "            return cycle_through_new(new_frame, accum, x + new_row)\n",
    "        \n",
    "for i in range(626):\n",
    "    #Had to do this because simply assigning it to be the same would cause changes to propogate backwards\n",
    "    #So annoying.\n",
    "    df_new = df.copy()\n",
    "    #print(df_new.iloc[i])\n",
    "    df_new.iloc[i, 0] = replace(df_new.iloc[i, 0])\n",
    "    #print(df_new.iloc[i])\n",
    "    val = cycle_through_new(df_new, 0)\n",
    "    if val[1] == True:\n",
    "        print(val[0])\n",
    "        break"
   ]
  },
  {
   "cell_type": "code",
   "execution_count": null,
   "metadata": {},
   "outputs": [],
   "source": [
    "##SOLUTION CODE FOR 12_9 Part 1\n",
    "#Gets solution for part 1\n",
    "lst = get_input('input_file_12_9.txt')\n",
    "lst = [int(i) for i in lst]\n",
    "\n",
    "for i in range(26, len(lst)):\n",
    "    temp_lst = lst.copy()[i-26:i-1]\n",
    "    x = lst[i-1]\n",
    "    break_bool = False\n",
    "    #print(temp_lst)\n",
    "    #print(x)\n",
    "    for j in range(0, 24):\n",
    "        for k in range(j+1, 25):\n",
    "            if temp_lst[j] + temp_lst[k] == x:\n",
    "                break_bool = True\n",
    "            if break_bool:\n",
    "                continue\n",
    "        if break_bool:\n",
    "            continue\n",
    "    if not break_bool:\n",
    "        print(x)         \n",
    "print('Part 1 answer above')\n",
    "\n",
    "##SOLUTION CODE FOR 12_9 Part 2\n",
    "lst = get_input('input_file_12_9.txt')\n",
    "lst = [int(i) for i in lst]\n",
    "\n",
    "#Hard coded the solution for part 1. No need to not do it, the above code works.\n",
    "solution = 90433990\n",
    "\n",
    "def dec_9_function(lst, solution):\n",
    "    for i in range(len(lst)):\n",
    "        running_sum = 0\n",
    "        counter = 0\n",
    "        while running_sum < solution:\n",
    "            running_sum = sum(lst[i:counter])\n",
    "            if running_sum == solution:\n",
    "                return max(lst[i:counter]) + min(lst[i:counter])\n",
    "            counter += 1\n",
    "\n",
    "print('Part 2 answer:')\n",
    "print(dec_9_function(lst, solution))\n"
   ]
  },
  {
   "cell_type": "code",
   "execution_count": 60,
   "metadata": {},
   "outputs": [
    {
     "name": "stdout",
     "output_type": "stream",
     "text": [
      "2470\n",
      "1973822685184\n"
     ]
    }
   ],
   "source": [
    "##SOLUTION CODE FOR 12/10 Part 1\n",
    "arr = get_input('input_file_12_10.txt')\n",
    "arr = [int(i) for i in arr]\n",
    "arr.sort()\n",
    "\n",
    "def jolt_counter(lst):\n",
    "    new_lst = []\n",
    "    for i in range(len(lst)):\n",
    "        try:\n",
    "            new_lst.append(lst[i+1] - lst[i])\n",
    "        #Accounts for the final thing, that isn't in the list but is guaranteed to be 3 higher\n",
    "        except IndexError:\n",
    "            new_lst.append(3)\n",
    "    #Accounts for the first connection that also isn't in the list - will either be a 1 or 3.\n",
    "    new_lst.append(lst[0])\n",
    "    ones = len([i for i in new_lst if i == 1])\n",
    "    twos = len([i for i in new_lst if i == 2])\n",
    "    threes = len([i for i in new_lst if i == 3])\n",
    "    \n",
    "    return ones * threes\n",
    "\n",
    "print(jolt_counter(arr))\n",
    "\n",
    "##SOLUTION CODE FOR 12/10 PART 2\n",
    "#NOTE - there are no gaps of 2 in the previous part.\n",
    "#turns into a combinatorics problem with the 3 being buffers, the 1s being the possible combinations\n",
    "def jolt_arrangements(lst):\n",
    "    #Appending the start and ends on here\n",
    "    new_lst = lst.copy()\n",
    "    new_lst.append(0)\n",
    "    new_lst.append(max(lst) + 3)\n",
    "    new_lst.sort()\n",
    "    lst_of_lsts = []\n",
    "    lst_of_indices = []\n",
    "    for i in range(len(lst)-1):\n",
    "        try:\n",
    "            if lst[i+1] - lst[i] == 3:\n",
    "                lst_of_indices.append(i+1)\n",
    "        except IndexError:\n",
    "            pass\n",
    "    #creating the new lists:\n",
    "    lst_of_indices.insert(0, 0)\n",
    "    lst_of_indices.append(len(new_lst))\n",
    "    for i in range(len(lst_of_indices)):\n",
    "        try:\n",
    "            #NOTE the i+1 here removes 0 from the first list\n",
    "            #That might be okay since that item is not replaceable.\n",
    "            #Was not okay, added it back later. Still happy with the rest of the split, though, so leaving in\n",
    "            lst_of_lsts.append(new_lst[lst_of_indices[i]+1:lst_of_indices[i+1]+1])\n",
    "        except:\n",
    "            pass\n",
    "    #Now a combinatorics question based on the lists of lists - which items can be removed and it still work??\n",
    "    #Hard coding adding the 0 to the first list, removing the end value from the last list\n",
    "    lst_of_lsts[0].insert(0, 0)\n",
    "    lst_of_lsts[-1].pop(-1)\n",
    "    lst_to_multiply = []\n",
    "    for i in lst_of_lsts:\n",
    "        if len(i) == 1:\n",
    "            continue\n",
    "        #All of the below is for a more generalized solution, but ended up just hard coding patterns\n",
    "        #None of the strings of 1s are longer than 3, so no hard math needed\n",
    "        #Much more complicated if you do that.\n",
    "        max_i = max(i)\n",
    "        min_i = min(i)\n",
    "        for j in i:\n",
    "            if max_i - min_i == 3:\n",
    "                dist_bool = True\n",
    "            else:\n",
    "                dist_bool = False\n",
    "            min_needed = int((max_i - min_i) / 3)\n",
    "        #Start of the hard coded possibilities, which is bad code but gets the job done.\n",
    "        if len(i) == 3:\n",
    "            lst_to_multiply.append(2)\n",
    "        elif len(i) == 4:\n",
    "            lst_to_multiply.append(4)\n",
    "        elif len(i) == 5:\n",
    "            lst_to_multiply.append(7)\n",
    "    ##Can hard code possibilities here - the maximum length in list of lists is 5, which means 3 internal vals\n",
    "    #Not good code, but gets the answer\n",
    "    running_total = 1\n",
    "    for i in lst_to_multiply:\n",
    "        running_total = running_total * i\n",
    "    return running_total\n",
    "    \n",
    "\n",
    "    \n",
    "print(jolt_arrangements(arr))"
   ]
  },
  {
   "cell_type": "code",
   "execution_count": 59,
   "metadata": {},
   "outputs": [
    {
     "name": "stdout",
     "output_type": "stream",
     "text": [
      "([4, 7, 4, 4, 4, 2, 4, 7, 4, 2, 4, 2, 7, 7, 4, 4, 7, 2, 7, 4], [[0, 1, 2, 3], [6, 7, 8, 9, 10], [13, 14, 15, 16], [19], [22, 23, 24, 25], [28, 29], [32, 33], [36], [39], [42, 43, 44, 45], [48, 49, 50], [53], [56, 57, 58, 59], [62], [65], [68, 69, 70, 71, 72], [75], [78], [81, 82, 83, 84], [87], [90], [93, 94, 95], [98], [101, 102, 103, 104], [107, 108, 109], [112, 113, 114, 115, 116], [119, 120, 121, 122, 123], [126], [129, 130, 131, 132], [135], [138, 139, 140, 141], [144, 145], [148, 149, 150, 151, 152], [155, 156, 157], [160], [163], [166, 167, 168, 169, 170], [173, 174, 175, 176]], 1973822685184)\n"
     ]
    }
   ],
   "source": [
    "##SOLUTION CODE FOR 12/10 PART 2 (IN PROGRESS)\n",
    "arr = get_input('input_file_12_10.txt')\n",
    "arr = [int(i) for i in arr]\n",
    "arr.sort()\n",
    "\n"
   ]
  },
  {
   "cell_type": "code",
   "execution_count": 41,
   "metadata": {},
   "outputs": [
    {
     "data": {
      "text/plain": [
       "176"
      ]
     },
     "execution_count": 41,
     "metadata": {},
     "output_type": "execute_result"
    }
   ],
   "source": [
    "max(arr)"
   ]
  },
  {
   "cell_type": "code",
   "execution_count": 12,
   "metadata": {},
   "outputs": [
    {
     "data": {
      "text/plain": [
       "1"
      ]
     },
     "execution_count": 12,
     "metadata": {},
     "output_type": "execute_result"
    }
   ],
   "source": [
    "min(arr)"
   ]
  },
  {
   "cell_type": "code",
   "execution_count": null,
   "metadata": {},
   "outputs": [],
   "source": []
  }
 ],
 "metadata": {
  "kernelspec": {
   "display_name": "Python 3",
   "language": "python",
   "name": "python3"
  },
  "language_info": {
   "codemirror_mode": {
    "name": "ipython",
    "version": 3
   },
   "file_extension": ".py",
   "mimetype": "text/x-python",
   "name": "python",
   "nbconvert_exporter": "python",
   "pygments_lexer": "ipython3",
   "version": "3.7.7"
  }
 },
 "nbformat": 4,
 "nbformat_minor": 4
}
