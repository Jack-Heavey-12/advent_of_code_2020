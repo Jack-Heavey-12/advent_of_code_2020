{
 "cells": [
  {
   "cell_type": "code",
   "execution_count": null,
   "metadata": {},
   "outputs": [],
   "source": [
    "#general imports. Add as I see fit.\n",
    "import numpy as np\n",
    "import pandas as pd"
   ]
  },
  {
   "cell_type": "code",
   "execution_count": 2,
   "metadata": {},
   "outputs": [],
   "source": [
    "#General function for opening .txt files, which it seems like all the inputs are.\n",
    "def get_input(filepath):\n",
    "    f = open(filepath, \"r\")\n",
    "    arr = f.read().split(\"\\n\")\n",
    "    arr.pop()\n",
    "    return arr"
   ]
  },
  {
   "cell_type": "code",
   "execution_count": null,
   "metadata": {},
   "outputs": [],
   "source": [
    "##NOTE - cells below that are not commented are works in progress/assorted trials.\n",
    "##       Will work to comment in cells where it does work"
   ]
  },
  {
   "cell_type": "code",
   "execution_count": null,
   "metadata": {},
   "outputs": [],
   "source": [
    "##SOLUTION CODE FOR 12/8 (part 1).\n",
    "\n",
    "df = pd.read_csv('input_file_12_8.txt', sep=' ', header=None)\n",
    "df.columns = ['Command', 'Iterator']\n",
    "\n",
    "df['Visited'] = 0\n",
    "\n",
    "def cycle_through(frame, accum, row=None):\n",
    "    if not row:\n",
    "        x = 0\n",
    "    else:\n",
    "        x = row\n",
    "    if frame.loc[x, 'Visited'] == 1:\n",
    "        return accum\n",
    "    else:\n",
    "        if frame.loc[x, 'Command'] == 'nop':\n",
    "            frame.loc[x, 'Visited'] = 1\n",
    "            return cycle_through(frame, accum, x+1)\n",
    "        elif frame.loc[x, 'Command'] == 'acc':\n",
    "            y = accum + frame.loc[x, 'Iterator']\n",
    "            frame.loc[x, 'Visited'] = 1\n",
    "            return cycle_through(frame, y, x+1)\n",
    "        else:\n",
    "            frame.loc[x, 'Visited'] = 1\n",
    "            new_row = frame.loc[x, 'Iterator']\n",
    "            return cycle_through(frame, accum, x + new_row)\n",
    "\n",
    "#This will print correct answer for part 1, verified on website\n",
    "print(cycle_through(df, 0))\n",
    "\n",
    "df['Visited'] = 0\n",
    "\n",
    "df['End Binary'] = 0\n",
    "df.iloc[-1, 3] = 1\n",
    "\n",
    "def replace(command):\n",
    "    if command == 'nop':\n",
    "        return 'jmp'\n",
    "    elif command == 'jmp':\n",
    "        return 'nop'\n",
    "    else:\n",
    "        return 'acc'\n",
    "    \n",
    "def cycle_through_new(frame, accum, row=None):\n",
    "    if not row:\n",
    "        x = 0\n",
    "    else:\n",
    "        x = row\n",
    "        \n",
    "    if frame.loc[x, 'End Binary'] == 1:\n",
    "        return (accum, True)\n",
    "    \n",
    "    if frame.loc[x, 'Visited'] == 1:\n",
    "        return (accum, False)\n",
    "    else:\n",
    "        #Copy here just to be safe\n",
    "        new_frame = frame.copy()\n",
    "        if frame.loc[x, 'Command'] == 'nop':\n",
    "            new_frame.loc[x, 'Visited'] = 1\n",
    "            return cycle_through_new(new_frame, accum, x+1)\n",
    "        elif frame.loc[x, 'Command'] == 'acc':\n",
    "            y = accum + frame.loc[x, 'Iterator']\n",
    "            new_frame.loc[x, 'Visited'] = 1\n",
    "            return cycle_through_new(new_frame, y, x+1)\n",
    "        else:\n",
    "            new_frame.loc[x, 'Visited'] = 1\n",
    "            new_row = frame.loc[x, 'Iterator']\n",
    "            return cycle_through_new(new_frame, accum, x + new_row)\n",
    "        \n",
    "for i in range(626):\n",
    "    #Had to do this because simply assigning it to be the same would cause changes to propogate backwards\n",
    "    #So annoying.\n",
    "    df_new = df.copy()\n",
    "    #print(df_new.iloc[i])\n",
    "    df_new.iloc[i, 0] = replace(df_new.iloc[i, 0])\n",
    "    #print(df_new.iloc[i])\n",
    "    val = cycle_through_new(df_new, 0)\n",
    "    if val[1] == True:\n",
    "        print(val[0])\n",
    "        break"
   ]
  },
  {
   "cell_type": "code",
   "execution_count": 3,
   "metadata": {},
   "outputs": [
    {
     "name": "stdout",
     "output_type": "stream",
     "text": [
      "90433990\n",
      "Done\n"
     ]
    }
   ],
   "source": [
    "##SOLUTION CODE FOR 12_9 Part 1\n",
    "#Gets solution for part 1\n",
    "lst = get_input('input_file_12_9.txt')\n",
    "lst = [int(i) for i in lst]\n",
    "\n",
    "for i in range(26, len(lst)):\n",
    "    temp_lst = lst.copy()[i-26:i-1]\n",
    "    x = lst[i-1]\n",
    "    break_bool = False\n",
    "    #print(temp_lst)\n",
    "    #print(x)\n",
    "    for j in range(0, 24):\n",
    "        for k in range(j+1, 25):\n",
    "            if temp_lst[j] + temp_lst[k] == x:\n",
    "                break_bool = True\n",
    "            if break_bool:\n",
    "                continue\n",
    "        if break_bool:\n",
    "            continue\n",
    "    if not break_bool:\n",
    "        print(x)         \n",
    "print('Done')\n",
    "\n",
    "##SOLUTION CODE FOR 12_9 Part 1\n",
    "#Gets solution for part 1\n",
    "lst = get_input('input_file_12_9.txt')\n",
    "lst = [int(i) for i in lst]\n",
    "\n",
    "solution = 90433990\n",
    "\n",
    "def dec_9_function(lst, solution):\n",
    "    for i in range(len(lst)):\n",
    "        running_sum = 0\n",
    "        counter = 0\n",
    "        while running_sum < solution:\n",
    "            running_sum = sum(lst[i:counter])\n",
    "            if running_sum == solution:\n",
    "                return max(lst[i:counter]) + min(lst[i:counter])\n",
    "            counter += 1\n",
    "\n",
    "print(dec_9_function(lst, 90433990))"
   ]
  },
  {
   "cell_type": "code",
   "execution_count": 7,
   "metadata": {},
   "outputs": [
    {
     "name": "stdout",
     "output_type": "stream",
     "text": [
      "11691646\n"
     ]
    }
   ],
   "source": []
  },
  {
   "cell_type": "code",
   "execution_count": null,
   "metadata": {},
   "outputs": [],
   "source": []
  }
 ],
 "metadata": {
  "kernelspec": {
   "display_name": "Python 3",
   "language": "python",
   "name": "python3"
  },
  "language_info": {
   "codemirror_mode": {
    "name": "ipython",
    "version": 3
   },
   "file_extension": ".py",
   "mimetype": "text/x-python",
   "name": "python",
   "nbconvert_exporter": "python",
   "pygments_lexer": "ipython3",
   "version": "3.7.7"
  }
 },
 "nbformat": 4,
 "nbformat_minor": 4
}
