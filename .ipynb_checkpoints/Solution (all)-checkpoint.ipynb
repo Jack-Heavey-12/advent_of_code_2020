{
 "cells": [
  {
   "cell_type": "code",
   "execution_count": 1,
   "metadata": {},
   "outputs": [],
   "source": [
    "#general imports. Add as I see fit.\n",
    "import numpy as np\n",
    "import pandas as pd"
   ]
  },
  {
   "cell_type": "code",
   "execution_count": null,
   "metadata": {},
   "outputs": [],
   "source": [
    "##NOTE - cells below that are not commented are works in progress/assorted trials.\n",
    "##       Will work to comment in cells where it does work"
   ]
  },
  {
   "cell_type": "code",
   "execution_count": 3,
   "metadata": {},
   "outputs": [
    {
     "name": "stdout",
     "output_type": "stream",
     "text": [
      "1832\n"
     ]
    }
   ],
   "source": [
    "##SOLUTION CODE FOR 12/8 (part 1).\n",
    "\n",
    "df = pd.read_csv('input_file_12_8.txt', sep=' ', header=None)\n",
    "df.columns = ['Command', 'Iterator']\n",
    "\n",
    "df['Visited'] = 0\n",
    "\n",
    "def cycle_through(frame, accum, row=None):\n",
    "    if not row:\n",
    "        x = 0\n",
    "    else:\n",
    "        x = row\n",
    "    if df.loc[x, 'Visited'] == 1:\n",
    "        return accum\n",
    "    else:\n",
    "        if frame.loc[x, 'Command'] == 'nop':\n",
    "            frame.loc[x, 'Visited'] = 1\n",
    "            return cycle_through(frame, accum, x+1)\n",
    "        elif frame.loc[x, 'Command'] == 'acc':\n",
    "            y = accum + frame.loc[x, 'Iterator']\n",
    "            frame.loc[x, 'Visited'] = 1\n",
    "            return cycle_through(frame, y, x+1)\n",
    "        else:\n",
    "            frame.loc[x, 'Visited'] = 1\n",
    "            new_row = frame.loc[x, 'Iterator']\n",
    "            return cycle_through(frame, accum, x + new_row)\n",
    "\n",
    "#This will print correct answer for part 1, verified on website\n",
    "print(cycle_through(df, 0))"
   ]
  },
  {
   "cell_type": "code",
   "execution_count": 16,
   "metadata": {},
   "outputs": [],
   "source": [
    "df_final = df"
   ]
  },
  {
   "cell_type": "code",
   "execution_count": 21,
   "metadata": {},
   "outputs": [],
   "source": [
    "df_final.iloc[-1, 2] = -1"
   ]
  },
  {
   "cell_type": "code",
   "execution_count": 20,
   "metadata": {},
   "outputs": [
    {
     "data": {
      "text/plain": [
       "Command     jmp\n",
       "Iterator      1\n",
       "Visited       5\n",
       "Name: 625, dtype: object"
      ]
     },
     "execution_count": 20,
     "metadata": {},
     "output_type": "execute_result"
    }
   ],
   "source": []
  },
  {
   "cell_type": "code",
   "execution_count": null,
   "metadata": {},
   "outputs": [],
   "source": [
    "def cycle_through(frame, accum, row=None):\n",
    "    if not row:\n",
    "        x = 0\n",
    "    else:\n",
    "        x = row\n",
    "    if df.loc[x, 'Visited'] == -1:\n",
    "        return accum\n",
    "    else:\n",
    "        if frame.loc[x, 'Command'] == 'nop':\n",
    "            frame.loc[x, 'Visited'] = 1\n",
    "            return cycle_through(frame, accum, x+1)\n",
    "        elif frame.loc[x, 'Command'] == 'acc':\n",
    "            y = accum + frame.loc[x, 'Iterator']\n",
    "            frame.loc[x, 'Visited'] = 1\n",
    "            return cycle_through(frame, y, x+1)\n",
    "        else:\n",
    "            frame.loc[x, 'Visited'] = 1\n",
    "            new_row = frame.loc[x, 'Iterator']\n",
    "            return cycle_through(frame, accum, x + new_row)"
   ]
  }
 ],
 "metadata": {
  "kernelspec": {
   "display_name": "Python 3",
   "language": "python",
   "name": "python3"
  },
  "language_info": {
   "codemirror_mode": {
    "name": "ipython",
    "version": 3
   },
   "file_extension": ".py",
   "mimetype": "text/x-python",
   "name": "python",
   "nbconvert_exporter": "python",
   "pygments_lexer": "ipython3",
   "version": "3.7.7"
  }
 },
 "nbformat": 4,
 "nbformat_minor": 4
}
